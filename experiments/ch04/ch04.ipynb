{
 "cells": [
  {
   "cell_type": "code",
   "execution_count": 16,
   "id": "fc58f605",
   "metadata": {},
   "outputs": [],
   "source": [
    "import math\n",
    "\n",
    "import torch\n",
    "import torch.nn as nn\n",
    "import torch.nn.functional as F\n",
    "from torch import optim\n",
    "\n",
    "import torchvision\n",
    "from torchvision import models\n",
    "from torchvision.transforms import v2\n",
    "\n",
    "import matplotlib.pyplot as plt\n",
    "from PIL import Image"
   ]
  },
  {
   "cell_type": "code",
   "execution_count": 2,
   "id": "5a3336cf",
   "metadata": {},
   "outputs": [],
   "source": [
    "resnet50 = models.resnet50(weights='IMAGENET1K_V1')\n",
    "for name, params in resnet50.named_parameters():\n",
    "    if 'bn' not in name:\n",
    "        params.requires_grad = False\n",
    "\n",
    "resnet50.fc = nn.Sequential(\n",
    "    nn.Linear(resnet50.fc.in_features, 500),\n",
    "    nn.ReLU(),\n",
    "    nn.Dropout(),\n",
    "    nn.Linear(500, 2)\n",
    ")"
   ]
  },
  {
   "cell_type": "code",
   "execution_count": 3,
   "id": "10776c85",
   "metadata": {},
   "outputs": [],
   "source": [
    "train_data_path = './train'\n",
    "test_data_path = './test'\n",
    "val_data_path = './val'\n",
    "\n",
    "transform = v2.Compose([\n",
    "    v2.Resize((64, 64)),\n",
    "    v2.ToImage(),\n",
    "    v2.ToDtype(torch.float32, scale=True),\n",
    "    v2.Normalize(mean=[0.485, 0.456, 0.406], std=[0.229, 0.224, 0.225])\n",
    "])\n",
    "\n",
    "train_data = torchvision.datasets.ImageFolder(root=train_data_path, transform=transform)\n",
    "test_data = torchvision.datasets.ImageFolder(root=test_data_path, transform=transform)\n",
    "val_data = torchvision.datasets.ImageFolder(root=val_data_path, transform=transform)\n"
   ]
  },
  {
   "cell_type": "code",
   "execution_count": 4,
   "id": "ba911a89",
   "metadata": {},
   "outputs": [],
   "source": [
    "batch_size = 64\n",
    "num_workers = 4\n",
    "\n",
    "train_loader = torch.utils.data.DataLoader(\n",
    "    dataset=train_data,\n",
    "    shuffle=True,\n",
    "    batch_size=batch_size,\n",
    "    num_workers=num_workers\n",
    ")\n",
    "\n",
    "test_loader = torch.utils.data.DataLoader(\n",
    "    dataset=test_data,\n",
    "    shuffle=True,\n",
    "    batch_size=batch_size,\n",
    "    num_workers=num_workers\n",
    ")\n",
    "\n",
    "val_loader = torch.utils.data.DataLoader(\n",
    "    dataset=val_data,\n",
    "    shuffle=True,\n",
    "    batch_size=batch_size,\n",
    "    num_workers=num_workers\n",
    ")"
   ]
  },
  {
   "cell_type": "code",
   "execution_count": 5,
   "id": "aa0d2dee",
   "metadata": {},
   "outputs": [
    {
     "data": {
      "text/plain": [
       "device(type='mps')"
      ]
     },
     "execution_count": 5,
     "metadata": {},
     "output_type": "execute_result"
    }
   ],
   "source": [
    "device = torch.device('mps') if torch.backends.mps.is_available() else torch.device('cpu')\n",
    "device\n"
   ]
  },
  {
   "cell_type": "code",
   "execution_count": 6,
   "id": "6836c7bc",
   "metadata": {},
   "outputs": [],
   "source": [
    "resnet = resnet50.to(device)\n",
    "criterion = nn.CrossEntropyLoss()\n",
    "optimizer = optim.Adam(resnet.parameters(), lr=0.001)"
   ]
  },
  {
   "cell_type": "code",
   "execution_count": 7,
   "id": "7df48adc",
   "metadata": {},
   "outputs": [],
   "source": [
    "def find_lr(model=resnet, loss_fn=criterion, optimizer=optimizer, init_value=1e-8, final_value=10.0):\n",
    "    number_in_epoch = len(train_loader) - 1\n",
    "    update_step = (final_value / init_value) ** (1 / number_in_epoch)\n",
    "    lr = init_value\n",
    "    optimizer.param_groups[0]['lr'] = lr\n",
    "    best_loss = None\n",
    "    batch_num = 0\n",
    "    losses = []\n",
    "    log_lrs = []\n",
    "    for inputs, target in train_loader:\n",
    "        batch_num += 1\n",
    "        inputs = inputs.to(device)\n",
    "        target = target.to(device)\n",
    "        optimizer.zero_grad()\n",
    "        output = model(inputs)\n",
    "        loss = loss_fn(output, target)\n",
    "        \n",
    "        if best_loss is None or loss.item() < best_loss:\n",
    "            best_loss = loss.item()\n",
    "\n",
    "        if batch_num > 1 and loss.item() > 4 * best_loss:\n",
    "            break\n",
    "\n",
    "        losses.append(loss.item())\n",
    "        log_lrs.append(math.log10(lr))\n",
    "        loss.backward()\n",
    "        optimizer.step()\n",
    "        \n",
    "        lr *= update_step\n",
    "        optimizer.param_groups[0]['lr'] = lr\n",
    "    return log_lrs, losses\n",
    "\n",
    "\n",
    "logs,losses = find_lr()\n",
    "    "
   ]
  },
  {
   "cell_type": "code",
   "execution_count": 8,
   "id": "2b8888a2",
   "metadata": {},
   "outputs": [
    {
     "data": {
      "image/png": "[encoded data removed]",
      "text/plain": [
       "<Figure size 640x480 with 1 Axes>"
      ]
     },
     "metadata": {},
     "output_type": "display_data"
    }
   ],
   "source": [
    "plt.plot(logs,losses)\n",
    "plt.show()"
   ]
  },
  {
   "cell_type": "code",
   "execution_count": 9,
   "id": "daf87e83",
   "metadata": {},
   "outputs": [],
   "source": [
    "found_lr = 1e-3\n",
    "resnet = resnet50.to(device)\n",
    "criterion = nn.CrossEntropyLoss()\n",
    "optimizer = optim.Adam([\n",
    "    {'params': resnet.layer4.parameters(), 'lr': found_lr/3},\n",
    "    {'params': resnet.layer3.parameters(), 'lr': found_lr/9}\n",
    "], lr=found_lr)\n",
    "\n",
    "for layer in [resnet.layer4, resnet.layer3]:\n",
    "    for param in layer.parameters():\n",
    "        param.requires_grad = True"
   ]
  },
  {
   "cell_type": "code",
   "execution_count": 10,
   "id": "b1a1e857",
   "metadata": {},
   "outputs": [
    {
     "name": "stderr",
     "output_type": "stream",
     "text": [
      "/var/folders/fd/xm_8gc6x0hncjzlyy0hscm7h0000gn/T/ipykernel_63877/4174151875.py:29: UserWarning: Implicit dimension choice for softmax has been deprecated. Change the call to include dim=X as an argument.\n",
      "  correct = torch.eq(torch.max(F.softmax(output), dim=1)[1], target).view(-1)\n"
     ]
    },
    {
     "name": "stdout",
     "output_type": "stream",
     "text": [
      "Epoch: 1, Train Loss: 0.91, Val Loss: 1.48, Accuracy: 0.97\n",
      "Epoch: 2, Train Loss: 0.17, Val Loss: 0.20, Accuracy: 0.97\n",
      "Epoch: 3, Train Loss: 0.04, Val Loss: 0.13, Accuracy: 0.95\n",
      "Epoch: 4, Train Loss: 0.03, Val Loss: 0.12, Accuracy: 0.96\n",
      "Epoch: 5, Train Loss: 0.02, Val Loss: 0.11, Accuracy: 0.96\n",
      "Epoch: 6, Train Loss: 0.00, Val Loss: 0.12, Accuracy: 0.96\n",
      "Epoch: 7, Train Loss: 0.00, Val Loss: 0.15, Accuracy: 0.96\n",
      "Epoch: 8, Train Loss: 0.00, Val Loss: 0.14, Accuracy: 0.96\n",
      "Epoch: 9, Train Loss: 0.00, Val Loss: 0.23, Accuracy: 0.94\n",
      "Epoch: 10, Train Loss: 0.00, Val Loss: 0.13, Accuracy: 0.94\n",
      "Epoch: 11, Train Loss: 0.00, Val Loss: 0.15, Accuracy: 0.94\n",
      "Epoch: 12, Train Loss: 0.00, Val Loss: 0.14, Accuracy: 0.94\n",
      "Epoch: 13, Train Loss: 0.00, Val Loss: 0.24, Accuracy: 0.94\n",
      "Epoch: 14, Train Loss: 0.00, Val Loss: 0.19, Accuracy: 0.93\n",
      "Epoch: 15, Train Loss: 0.00, Val Loss: 0.17, Accuracy: 0.93\n",
      "Epoch: 16, Train Loss: 0.01, Val Loss: 0.26, Accuracy: 0.94\n",
      "Epoch: 17, Train Loss: 0.00, Val Loss: 0.24, Accuracy: 0.96\n",
      "Epoch: 18, Train Loss: 0.01, Val Loss: 0.30, Accuracy: 0.92\n",
      "Epoch: 19, Train Loss: 0.02, Val Loss: 0.28, Accuracy: 0.89\n",
      "Epoch: 20, Train Loss: 0.00, Val Loss: 0.19, Accuracy: 0.92\n"
     ]
    }
   ],
   "source": [
    "epochs=20\n",
    "def train(model=resnet, optimizer=optimizer, loss_fn=criterion, train_loader=train_loader, val_loader=val_loader, device=device, epochs=epochs):\n",
    "    for epoch in range(epochs):\n",
    "        train_loss = 0.0\n",
    "        val_loss = 0.0\n",
    "        model.train()\n",
    "        for inputs, target in train_loader:\n",
    "            optimizer.zero_grad()\n",
    "            inputs = inputs.to(device)\n",
    "            target = target.to(device)\n",
    "            output = model(inputs)\n",
    "            loss = loss_fn(output, target)\n",
    "            loss.backward()\n",
    "            optimizer.step()\n",
    "\n",
    "            train_loss += loss.item()\n",
    "        train_loss /= len(train_loader)\n",
    "\n",
    "        num_correct = 0.0\n",
    "        num_examples = 0.0\n",
    "        model.eval()\n",
    "        for inputs, target in val_loader:\n",
    "            inputs = inputs.to(device)\n",
    "            target = target.to(device)\n",
    "            output = model(inputs)\n",
    "            loss = loss_fn(output, target)\n",
    "\n",
    "            val_loss += loss.item()\n",
    "            correct = torch.eq(torch.max(F.softmax(output), dim=1)[1], target).view(-1)\n",
    "            num_correct += torch.sum(correct).item()\n",
    "            num_examples += correct.shape[0]\n",
    "        val_loss /= len(val_loader)\n",
    "\n",
    "        print(f\"Epoch: {epoch+1}, Train Loss: {train_loss:.2f}, Val Loss: {val_loss:.2f}, Accuracy: {(num_correct/num_examples):.2f}\")\n",
    "\n",
    "train()"
   ]
  },
  {
   "cell_type": "code",
   "execution_count": 11,
   "id": "d644f606",
   "metadata": {},
   "outputs": [],
   "source": [
    "def to_hsv(x):\n",
    "    return x.convert('hsv')\n",
    "\n",
    "HSVTansform = v2.Lambda(lambda x: to_hsv(x))\n"
   ]
  },
  {
   "cell_type": "code",
   "execution_count": 12,
   "id": "3ebb3d20",
   "metadata": {},
   "outputs": [],
   "source": [
    "class Noise:\n",
    "    def __init__(self, mean, std):\n",
    "        self.mean = mean\n",
    "        self.std = std\n",
    "\n",
    "    def __call__(self, tensor: torch.Tensor):\n",
    "        noise = torch.zeros_like(tensor).normal_(self.mean, self.std)\n",
    "        return tensor.add(noise)\n",
    "\n",
    "    def __repr__(self):\n",
    "        repr = f\"{self.__class__.__name__}(mean={self.mean}, std={self.std})\"\n",
    "        return repr\n"
   ]
  },
  {
   "cell_type": "code",
   "execution_count": 15,
   "id": "98efdc95",
   "metadata": {},
   "outputs": [
    {
     "data": {
      "text/plain": [
       "Compose(    Noise(mean=1, std=2))"
      ]
     },
     "execution_count": 15,
     "metadata": {},
     "output_type": "execute_result"
    }
   ],
   "source": [
    "v2.Compose([\n",
    "    Noise(1,2)\n",
    "])"
   ]
  },
  {
   "cell_type": "code",
   "execution_count": 21,
   "id": "130a9f0d",
   "metadata": {},
   "outputs": [
    {
     "name": "stdout",
     "output_type": "stream",
     "text": [
      "Resnet Predicted: fish\n"
     ]
    }
   ],
   "source": [
    "labels = ['cat', 'fish']\n",
    "x = Image.open('./test/fish/50081802_bf4d207cd5.jpg')\n",
    "x = transform(x)\n",
    "x = x.unsqueeze(0)\n",
    "\n",
    "output = resnet(x.to(device))\n",
    "pred = output.argmax()\n",
    "print(f\"Resnet Predicted: {labels[pred.item()]}\")"
   ]
  },
  {
   "cell_type": "code",
   "execution_count": null,
   "id": "4837ef56",
   "metadata": {},
   "outputs": [],
   "source": []
  }
 ],
 "metadata": {
  "kernelspec": {
   "display_name": ".venv",
   "language": "python",
   "name": "python3"
  },
  "language_info": {
   "codemirror_mode": {
    "name": "ipython",
    "version": 3
   },
   "file_extension": ".py",
   "mimetype": "text/x-python",
   "name": "python",
   "nbconvert_exporter": "python",
   "pygments_lexer": "ipython3",
   "version": "3.12.10"
  }
 },
 "nbformat": 4,
 "nbformat_minor": 5
}
