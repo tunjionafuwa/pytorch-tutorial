{
 "cells": [
  {
   "cell_type": "code",
   "execution_count": 14,
   "id": "13c994b0",
   "metadata": {},
   "outputs": [],
   "source": [
    "from torch.utils.tensorboard import SummaryWriter\n",
    "import random"
   ]
  },
  {
   "cell_type": "code",
   "execution_count": null,
   "id": "d1d192cd",
   "metadata": {},
   "outputs": [],
   "source": [
    "writer = SummaryWriter()\n",
    "for i in range(1, 11):\n",
    "    writer.add_scalar('example', i, i**2)"
   ]
  },
  {
   "cell_type": "code",
   "execution_count": null,
   "id": "1c0a8d49",
   "metadata": {},
   "outputs": [],
   "source": [
    "value = 10\n",
    "writer.add_scalar('test_loop', value, 0)\n",
    "for i in range(1, 10000):\n",
    "    value += random.random() - 0.5\n",
    "    writer.add_scalar('test_loop', value, i)\n",
    "writer.flush()\n",
    "writer.close()"
   ]
  },
  {
   "cell_type": "code",
   "execution_count": 3,
   "id": "e9258a18",
   "metadata": {},
   "outputs": [],
   "source": [
    "from torchvision import models\n",
    "import torch"
   ]
  },
  {
   "cell_type": "code",
   "execution_count": 15,
   "id": "29a2fb61",
   "metadata": {},
   "outputs": [],
   "source": [
    "from functools import partial\n",
    "\n",
    "writer = SummaryWriter()\n",
    "def print_hook(i, module, input, output):\n",
    "    writer.add_scalar(f\"layer-{i}-std\", output.std().item())\n",
    "    writer.add_scalar(f\"layer-{i}-mean\", output.mean().item())\n",
    "\n",
    "resnet = models.resnet18()\n",
    "\n",
    "for i, m in enumerate(resnet.children()):\n",
    "    m.register_forward_hook(partial(print_hook, i))\n",
    "\n",
    "\n",
    "x = torch.rand(1, 3, 244, 244)\n",
    "resnet(x)\n",
    "\n",
    "writer.flush()\n",
    "writer.close()"
   ]
  },
  {
   "cell_type": "code",
   "execution_count": null,
   "id": "675c3439",
   "metadata": {},
   "outputs": [],
   "source": []
  },
  {
   "cell_type": "code",
   "execution_count": null,
   "id": "00f1e849",
   "metadata": {},
   "outputs": [],
   "source": []
  },
  {
   "cell_type": "code",
   "execution_count": null,
   "id": "ac6551e5",
   "metadata": {},
   "outputs": [],
   "source": [
    "resnet = models.resnet18()\n",
    "writer.add_graph(resnet, torch.rand(1,3,244,244))"
   ]
  },
  {
   "cell_type": "code",
   "execution_count": null,
   "id": "2780686e",
   "metadata": {},
   "outputs": [],
   "source": []
  },
  {
   "cell_type": "code",
   "execution_count": null,
   "id": "6d90a60f",
   "metadata": {},
   "outputs": [],
   "source": []
  },
  {
   "cell_type": "code",
   "execution_count": null,
   "id": "32a2e245",
   "metadata": {},
   "outputs": [],
   "source": []
  },
  {
   "cell_type": "code",
   "execution_count": null,
   "id": "bb793aac",
   "metadata": {},
   "outputs": [],
   "source": []
  },
  {
   "cell_type": "code",
   "execution_count": null,
   "id": "1a4fabee",
   "metadata": {},
   "outputs": [],
   "source": []
  },
  {
   "cell_type": "code",
   "execution_count": null,
   "id": "0006d5a6",
   "metadata": {},
   "outputs": [],
   "source": []
  },
  {
   "cell_type": "code",
   "execution_count": null,
   "id": "d901651f",
   "metadata": {},
   "outputs": [],
   "source": []
  },
  {
   "cell_type": "code",
   "execution_count": null,
   "id": "9e18d047",
   "metadata": {},
   "outputs": [],
   "source": []
  },
  {
   "cell_type": "code",
   "execution_count": 9,
   "id": "070ade3a",
   "metadata": {},
   "outputs": [
    {
     "data": {
      "text/html": [
       "\n",
       "      <iframe id=\"tensorboard-frame-598c0f455ec07c9b\" width=\"100%\" height=\"800\" frameborder=\"0\">\n",
       "      </iframe>\n",
       "      <script>\n",
       "        (function() {\n",
       "          const frame = document.getElementById(\"tensorboard-frame-598c0f455ec07c9b\");\n",
       "          const url = new URL(\"/\", window.location);\n",
       "          const port = 6006;\n",
       "          if (port) {\n",
       "            url.port = port;\n",
       "          }\n",
       "          frame.src = url;\n",
       "        })();\n",
       "      </script>\n",
       "    "
      ],
      "text/plain": [
       "<IPython.core.display.HTML object>"
      ]
     },
     "metadata": {},
     "output_type": "display_data"
    }
   ],
   "source": [
    "%load_ext tensorboard\n",
    "%tensorboard --logdir=runs"
   ]
  },
  {
   "cell_type": "code",
   "execution_count": null,
   "id": "4ebdc388",
   "metadata": {},
   "outputs": [],
   "source": []
  }
 ],
 "metadata": {
  "kernelspec": {
   "display_name": ".venv",
   "language": "python",
   "name": "python3"
  },
  "language_info": {
   "codemirror_mode": {
    "name": "ipython",
    "version": 3
   },
   "file_extension": ".py",
   "mimetype": "text/x-python",
   "name": "python",
   "nbconvert_exporter": "python",
   "pygments_lexer": "ipython3",
   "version": "3.12.10"
  }
 },
 "nbformat": 4,
 "nbformat_minor": 5
}
